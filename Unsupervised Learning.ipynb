{
 "cells": [
  {
   "cell_type": "markdown",
   "id": "fedc506e",
   "metadata": {},
   "source": [
    "## 1. K-Means Clustering"
   ]
  },
  {
   "cell_type": "code",
   "execution_count": 3,
   "id": "64fad39e",
   "metadata": {},
   "outputs": [],
   "source": [
    "# Librabries\n",
    "import pandas as pd\n",
    "from sklearn.cluster import KMeans\n",
    "import matplotlib.pyplot as plt"
   ]
  },
  {
   "cell_type": "code",
   "execution_count": 17,
   "id": "bbe0e829",
   "metadata": {},
   "outputs": [
    {
     "data": {
      "text/plain": [
       "19"
      ]
     },
     "execution_count": 17,
     "metadata": {},
     "output_type": "execute_result"
    }
   ],
   "source": [
    "#Dataset\n",
    "\n",
    "data = {\n",
    "    \"Annual-Income\" : [15,16,17,18,19,20,21,22,23,24,25,26,27,28,29,30,45,46,47],\n",
    "    \"Spending_Score\" : [39,81,6,40,34,6,89,3,38,47,86,45,77,40,76,9,77,8,80]\n",
    "    }\n",
    "len(data[\"Annual-Income\"])"
   ]
  },
  {
   "cell_type": "code",
   "execution_count": 18,
   "id": "f37217c1",
   "metadata": {},
   "outputs": [
    {
     "data": {
      "text/html": [
       "<div>\n",
       "<style scoped>\n",
       "    .dataframe tbody tr th:only-of-type {\n",
       "        vertical-align: middle;\n",
       "    }\n",
       "\n",
       "    .dataframe tbody tr th {\n",
       "        vertical-align: top;\n",
       "    }\n",
       "\n",
       "    .dataframe thead th {\n",
       "        text-align: right;\n",
       "    }\n",
       "</style>\n",
       "<table border=\"1\" class=\"dataframe\">\n",
       "  <thead>\n",
       "    <tr style=\"text-align: right;\">\n",
       "      <th></th>\n",
       "      <th>Annual-Income</th>\n",
       "      <th>Spending_Score</th>\n",
       "    </tr>\n",
       "  </thead>\n",
       "  <tbody>\n",
       "    <tr>\n",
       "      <th>0</th>\n",
       "      <td>15</td>\n",
       "      <td>39</td>\n",
       "    </tr>\n",
       "    <tr>\n",
       "      <th>1</th>\n",
       "      <td>16</td>\n",
       "      <td>81</td>\n",
       "    </tr>\n",
       "    <tr>\n",
       "      <th>2</th>\n",
       "      <td>17</td>\n",
       "      <td>6</td>\n",
       "    </tr>\n",
       "    <tr>\n",
       "      <th>3</th>\n",
       "      <td>18</td>\n",
       "      <td>40</td>\n",
       "    </tr>\n",
       "    <tr>\n",
       "      <th>4</th>\n",
       "      <td>19</td>\n",
       "      <td>34</td>\n",
       "    </tr>\n",
       "    <tr>\n",
       "      <th>5</th>\n",
       "      <td>20</td>\n",
       "      <td>6</td>\n",
       "    </tr>\n",
       "    <tr>\n",
       "      <th>6</th>\n",
       "      <td>21</td>\n",
       "      <td>89</td>\n",
       "    </tr>\n",
       "    <tr>\n",
       "      <th>7</th>\n",
       "      <td>22</td>\n",
       "      <td>3</td>\n",
       "    </tr>\n",
       "    <tr>\n",
       "      <th>8</th>\n",
       "      <td>23</td>\n",
       "      <td>38</td>\n",
       "    </tr>\n",
       "    <tr>\n",
       "      <th>9</th>\n",
       "      <td>24</td>\n",
       "      <td>47</td>\n",
       "    </tr>\n",
       "    <tr>\n",
       "      <th>10</th>\n",
       "      <td>25</td>\n",
       "      <td>86</td>\n",
       "    </tr>\n",
       "    <tr>\n",
       "      <th>11</th>\n",
       "      <td>26</td>\n",
       "      <td>45</td>\n",
       "    </tr>\n",
       "    <tr>\n",
       "      <th>12</th>\n",
       "      <td>27</td>\n",
       "      <td>77</td>\n",
       "    </tr>\n",
       "    <tr>\n",
       "      <th>13</th>\n",
       "      <td>28</td>\n",
       "      <td>40</td>\n",
       "    </tr>\n",
       "    <tr>\n",
       "      <th>14</th>\n",
       "      <td>29</td>\n",
       "      <td>76</td>\n",
       "    </tr>\n",
       "    <tr>\n",
       "      <th>15</th>\n",
       "      <td>30</td>\n",
       "      <td>9</td>\n",
       "    </tr>\n",
       "    <tr>\n",
       "      <th>16</th>\n",
       "      <td>45</td>\n",
       "      <td>77</td>\n",
       "    </tr>\n",
       "    <tr>\n",
       "      <th>17</th>\n",
       "      <td>46</td>\n",
       "      <td>8</td>\n",
       "    </tr>\n",
       "    <tr>\n",
       "      <th>18</th>\n",
       "      <td>47</td>\n",
       "      <td>80</td>\n",
       "    </tr>\n",
       "  </tbody>\n",
       "</table>\n",
       "</div>"
      ],
      "text/plain": [
       "    Annual-Income  Spending_Score\n",
       "0              15              39\n",
       "1              16              81\n",
       "2              17               6\n",
       "3              18              40\n",
       "4              19              34\n",
       "5              20               6\n",
       "6              21              89\n",
       "7              22               3\n",
       "8              23              38\n",
       "9              24              47\n",
       "10             25              86\n",
       "11             26              45\n",
       "12             27              77\n",
       "13             28              40\n",
       "14             29              76\n",
       "15             30               9\n",
       "16             45              77\n",
       "17             46               8\n",
       "18             47              80"
      ]
     },
     "execution_count": 18,
     "metadata": {},
     "output_type": "execute_result"
    }
   ],
   "source": [
    "df = pd.DataFrame(data)\n",
    "df"
   ]
  },
  {
   "cell_type": "code",
   "execution_count": 19,
   "id": "5ea10f5b",
   "metadata": {},
   "outputs": [
    {
     "name": "stdout",
     "output_type": "stream",
     "text": [
      "    Annual-Income  Spending_Score  Cluster\n",
      "0              15              39        2\n",
      "1              16              81        1\n",
      "2              17               6        0\n",
      "3              18              40        2\n",
      "4              19              34        2\n",
      "5              20               6        0\n",
      "6              21              89        1\n",
      "7              22               3        0\n",
      "8              23              38        2\n",
      "9              24              47        2\n",
      "10             25              86        1\n",
      "11             26              45        2\n",
      "12             27              77        1\n",
      "13             28              40        2\n",
      "14             29              76        1\n",
      "15             30               9        0\n",
      "16             45              77        1\n",
      "17             46               8        0\n",
      "18             47              80        1\n"
     ]
    },
    {
     "name": "stderr",
     "output_type": "stream",
     "text": [
      "C:\\Users\\arun2\\anaconda3\\Lib\\site-packages\\sklearn\\cluster\\_kmeans.py:1429: UserWarning: KMeans is known to have a memory leak on Windows with MKL, when there are less chunks than available threads. You can avoid it by setting the environment variable OMP_NUM_THREADS=1.\n",
      "  warnings.warn(\n"
     ]
    }
   ],
   "source": [
    "# Apply K-Means\n",
    "kmeans = KMeans(n_clusters = 3, random_state = 42)\n",
    "df[\"Cluster\"] = kmeans.fit_predict(df)\n",
    "print(df)"
   ]
  },
  {
   "cell_type": "code",
   "execution_count": 20,
   "id": "ac5c5836",
   "metadata": {},
   "outputs": [
    {
     "data": {
      "image/png": "[encoded data removed]",
      "text/plain": [
       "<Figure size 640x480 with 1 Axes>"
      ]
     },
     "metadata": {},
     "output_type": "display_data"
    }
   ],
   "source": [
    "plt.scatter(df[\"Annual-Income\"],df[\"Spending_Score\"], c = df[\"Cluster\"], cmap = \"viridis\")\n",
    "plt.xlabel(\"Annual Income\")\n",
    "plt.ylabel(\"Spending Score\")\n",
    "plt.title(\"K-Means Clustering\")\n",
    "plt.show()"
   ]
  },
  {
   "cell_type": "markdown",
   "id": "bd857f06",
   "metadata": {},
   "source": [
    "## 2. Principal Component Analysis (PCA)"
   ]
  },
  {
   "cell_type": "code",
   "execution_count": 33,
   "id": "776f0de3",
   "metadata": {},
   "outputs": [],
   "source": [
    "# Import Library\n",
    "from sklearn.decomposition import PCA\n",
    "import numpy as np\n"
   ]
  },
  {
   "cell_type": "code",
   "execution_count": 34,
   "id": "c31f3f2e",
   "metadata": {},
   "outputs": [
    {
     "data": {
      "text/html": [
       "<div>\n",
       "<style scoped>\n",
       "    .dataframe tbody tr th:only-of-type {\n",
       "        vertical-align: middle;\n",
       "    }\n",
       "\n",
       "    .dataframe tbody tr th {\n",
       "        vertical-align: top;\n",
       "    }\n",
       "\n",
       "    .dataframe thead th {\n",
       "        text-align: right;\n",
       "    }\n",
       "</style>\n",
       "<table border=\"1\" class=\"dataframe\">\n",
       "  <thead>\n",
       "    <tr style=\"text-align: right;\">\n",
       "      <th></th>\n",
       "      <th>Feature1</th>\n",
       "      <th>Feature2</th>\n",
       "      <th>Feature3</th>\n",
       "      <th>Feature4</th>\n",
       "      <th>Feature5</th>\n",
       "    </tr>\n",
       "  </thead>\n",
       "  <tbody>\n",
       "    <tr>\n",
       "      <th>0</th>\n",
       "      <td>0.357264</td>\n",
       "      <td>0.719175</td>\n",
       "      <td>0.882002</td>\n",
       "      <td>0.876491</td>\n",
       "      <td>0.628337</td>\n",
       "    </tr>\n",
       "    <tr>\n",
       "      <th>1</th>\n",
       "      <td>0.811372</td>\n",
       "      <td>0.351014</td>\n",
       "      <td>0.423470</td>\n",
       "      <td>0.448912</td>\n",
       "      <td>0.857734</td>\n",
       "    </tr>\n",
       "    <tr>\n",
       "      <th>2</th>\n",
       "      <td>0.069705</td>\n",
       "      <td>0.510708</td>\n",
       "      <td>0.168854</td>\n",
       "      <td>0.858426</td>\n",
       "      <td>0.010528</td>\n",
       "    </tr>\n",
       "    <tr>\n",
       "      <th>3</th>\n",
       "      <td>0.644904</td>\n",
       "      <td>0.859649</td>\n",
       "      <td>0.945838</td>\n",
       "      <td>0.880373</td>\n",
       "      <td>0.687758</td>\n",
       "    </tr>\n",
       "    <tr>\n",
       "      <th>4</th>\n",
       "      <td>0.774007</td>\n",
       "      <td>0.712542</td>\n",
       "      <td>0.709362</td>\n",
       "      <td>0.248634</td>\n",
       "      <td>0.434273</td>\n",
       "    </tr>\n",
       "    <tr>\n",
       "      <th>...</th>\n",
       "      <td>...</td>\n",
       "      <td>...</td>\n",
       "      <td>...</td>\n",
       "      <td>...</td>\n",
       "      <td>...</td>\n",
       "    </tr>\n",
       "    <tr>\n",
       "      <th>95</th>\n",
       "      <td>0.010416</td>\n",
       "      <td>0.780335</td>\n",
       "      <td>0.850534</td>\n",
       "      <td>0.056209</td>\n",
       "      <td>0.511890</td>\n",
       "    </tr>\n",
       "    <tr>\n",
       "      <th>96</th>\n",
       "      <td>0.279947</td>\n",
       "      <td>0.865614</td>\n",
       "      <td>0.489716</td>\n",
       "      <td>0.477502</td>\n",
       "      <td>0.611010</td>\n",
       "    </tr>\n",
       "    <tr>\n",
       "      <th>97</th>\n",
       "      <td>0.929633</td>\n",
       "      <td>0.819041</td>\n",
       "      <td>0.294973</td>\n",
       "      <td>0.204361</td>\n",
       "      <td>0.905290</td>\n",
       "    </tr>\n",
       "    <tr>\n",
       "      <th>98</th>\n",
       "      <td>0.409251</td>\n",
       "      <td>0.242078</td>\n",
       "      <td>0.255236</td>\n",
       "      <td>0.852568</td>\n",
       "      <td>0.431014</td>\n",
       "    </tr>\n",
       "    <tr>\n",
       "      <th>99</th>\n",
       "      <td>0.010927</td>\n",
       "      <td>0.884877</td>\n",
       "      <td>0.305488</td>\n",
       "      <td>0.634663</td>\n",
       "      <td>0.052713</td>\n",
       "    </tr>\n",
       "  </tbody>\n",
       "</table>\n",
       "<p>100 rows × 5 columns</p>\n",
       "</div>"
      ],
      "text/plain": [
       "    Feature1  Feature2  Feature3  Feature4  Feature5\n",
       "0   0.357264  0.719175  0.882002  0.876491  0.628337\n",
       "1   0.811372  0.351014  0.423470  0.448912  0.857734\n",
       "2   0.069705  0.510708  0.168854  0.858426  0.010528\n",
       "3   0.644904  0.859649  0.945838  0.880373  0.687758\n",
       "4   0.774007  0.712542  0.709362  0.248634  0.434273\n",
       "..       ...       ...       ...       ...       ...\n",
       "95  0.010416  0.780335  0.850534  0.056209  0.511890\n",
       "96  0.279947  0.865614  0.489716  0.477502  0.611010\n",
       "97  0.929633  0.819041  0.294973  0.204361  0.905290\n",
       "98  0.409251  0.242078  0.255236  0.852568  0.431014\n",
       "99  0.010927  0.884877  0.305488  0.634663  0.052713\n",
       "\n",
       "[100 rows x 5 columns]"
      ]
     },
     "execution_count": 34,
     "metadata": {},
     "output_type": "execute_result"
    }
   ],
   "source": [
    "# Create a synthetic high-dimensional dataset\n",
    "data = np.random.rand(100,5)\n",
    "df = pd.DataFrame(data, columns = [\"Feature1\",\"Feature2\",\"Feature3\",\"Feature4\",\"Feature5\"])\n",
    "df\n",
    "\n"
   ]
  },
  {
   "cell_type": "markdown",
   "id": "4dbc78c3",
   "metadata": {},
   "source": [
    "### Step2: Apply PCA"
   ]
  },
  {
   "cell_type": "code",
   "execution_count": 35,
   "id": "7142b61e",
   "metadata": {},
   "outputs": [],
   "source": [
    "pca = PCA(n_components = 2)\n",
    "pca_result = pca.fit_transform(df)\n",
    "\n",
    "pca_df = pd.DataFrame(pca_result, columns =[\"PCA1\",\"PCA2\"])\n"
   ]
  },
  {
   "cell_type": "code",
   "execution_count": 36,
   "id": "9b48c4b5",
   "metadata": {},
   "outputs": [
    {
     "data": {
      "image/png": "[encoded data removed]",
      "text/plain": [
       "<Figure size 640x480 with 1 Axes>"
      ]
     },
     "metadata": {},
     "output_type": "display_data"
    }
   ],
   "source": [
    "plt.scatter(pca_df[\"PCA1\"],pca_df[\"PCA2\"], c= \"blue\", alpha = 0.6)\n",
    "plt.xlabel(\"PCA1\")\n",
    "plt.ylabel(\"PCA2\")\n",
    "plt.title(\"PCA Visualization\")\n",
    "plt.show()\n"
   ]
  },
  {
   "cell_type": "code",
   "execution_count": null,
   "id": "ad46a98f",
   "metadata": {},
   "outputs": [],
   "source": []
  },
  {
   "cell_type": "code",
   "execution_count": null,
   "id": "44435f42",
   "metadata": {},
   "outputs": [],
   "source": []
  }
 ],
 "metadata": {
  "kernelspec": {
   "display_name": "Python 3 (ipykernel)",
   "language": "python",
   "name": "python3"
  },
  "language_info": {
   "codemirror_mode": {
    "name": "ipython",
    "version": 3
   },
   "file_extension": ".py",
   "mimetype": "text/x-python",
   "name": "python",
   "nbconvert_exporter": "python",
   "pygments_lexer": "ipython3",
   "version": "3.11.5"
  }
 },
 "nbformat": 4,
 "nbformat_minor": 5
}
